{
 "cells": [
  {
   "cell_type": "markdown",
   "metadata": {},
   "source": [
    "## Operadores - Actividad"
   ]
  },
  {
   "cell_type": "markdown",
   "metadata": {},
   "source": [
    "1) Pedir al usuario dos números y mostrar por pantalla la suma de ellos."
   ]
  },
  {
   "cell_type": "code",
   "execution_count": 6,
   "metadata": {},
   "outputs": [
    {
     "name": "stdout",
     "output_type": "stream",
     "text": [
      "primer valor: 3\n",
      "segundo valor: 7\n",
      "La suma de a + b es: 10\n"
     ]
    }
   ],
   "source": [
    "a = int(input(\"ingrese un numero:\"))\n",
    "b = int(input(\"ingrese otro numero:\"))\n",
    "\n",
    "print ('primer valor:', a)\n",
    "print ('segundo valor:', b)\n",
    "print('La suma de a + b es:', a + b)"
   ]
  },
  {
   "cell_type": "markdown",
   "metadata": {},
   "source": [
    "2) Calcular el perímetro y área de un rectángulo dada su base y su altura (el usuario debe introducir por teclado los dos valores)."
   ]
  },
  {
   "cell_type": "code",
   "execution_count": 8,
   "metadata": {},
   "outputs": [
    {
     "name": "stdout",
     "output_type": "stream",
     "text": [
      "El perimetro es: 18 m\n",
      "El area es: 18 m2\n"
     ]
    }
   ],
   "source": [
    "a = int(input(\"ingrese la base del rectangulo en metros:\"))\n",
    "b = int(input(\"ingrese la altura del rectangulo en metros:\"))\n",
    "\n",
    "perimetro = 2 * (a + b)\n",
    "arearectangulo = a * b\n",
    "\n",
    "print ('El perimetro es:', perimetro, 'm')\n",
    "print ('El area es:', arearectangulo, 'm2')"
   ]
  },
  {
   "cell_type": "markdown",
   "metadata": {},
   "source": [
    "3) Calcular el resultado de elevar un número entero a otro número entero (por ejemplo, 5 elevado a 3 = 5^3 = 5*5*5)."
   ]
  },
  {
   "cell_type": "code",
   "execution_count": 9,
   "metadata": {},
   "outputs": [
    {
     "name": "stdout",
     "output_type": "stream",
     "text": [
      "El resultado es: 32\n"
     ]
    }
   ],
   "source": [
    "a = int(input(\"ingrese el numero entero a elevar:\"))\n",
    "b = int(input(\"ingrese la potencia a elevar:\"))\n",
    "\n",
    "potencia = a**b\n",
    "\n",
    "print('El resultado es:', potencia)"
   ]
  },
  {
   "cell_type": "markdown",
   "metadata": {},
   "source": [
    "4) Escribe un programa que convierta grados Celsius a grados Fahrenheit utilizando la fórmula: **F = (C * 9/5) + 32**"
   ]
  },
  {
   "cell_type": "code",
   "execution_count": 10,
   "metadata": {},
   "outputs": [
    {
     "name": "stdout",
     "output_type": "stream",
     "text": [
      "El valor en grados celcius es: 18.88888888888889 °C\n"
     ]
    }
   ],
   "source": [
    "fahrenheit = float(input(\"ingrese grados fahrenheit a convertir en celsius:\"))\n",
    "\n",
    "celcius = (fahrenheit - 32) * 5 / 9\n",
    "\n",
    "print('El valor en grados celcius es:', celcius, '°C')"
   ]
  },
  {
   "cell_type": "markdown",
   "metadata": {},
   "source": [
    "5) Pedir al usuario su edad y mostrar por pantalla si es mayor de edad o no. (Mayor de edad >= 18)"
   ]
  },
  {
   "cell_type": "code",
   "execution_count": 37,
   "metadata": {},
   "outputs": [
    {
     "name": "stdout",
     "output_type": "stream",
     "text": [
      "Es mayor de edad\n"
     ]
    }
   ],
   "source": [
    "edad = int(input(\"ingrese el numero entero a elevar:\"))\n",
    "\n",
    "if edad >= 18:\n",
    "    print ('Es mayor de edad')\n",
    "else:\n",
    "    print ('Es menor de edad')"
   ]
  },
  {
   "cell_type": "markdown",
   "metadata": {},
   "source": [
    "6) Comprobar si el numero ingresado por el usuario es par o impar."
   ]
  },
  {
   "cell_type": "code",
   "execution_count": null,
   "metadata": {},
   "outputs": [],
   "source": [
    "numero = int(input(\"ingrese un numero entero:\"))\n",
    "\n",
    "if numero % 2 == 0:\n",
    "    print ('Es par')\n",
    "else:\n",
    "    print ('Es impar')"
   ]
  },
  {
   "cell_type": "markdown",
   "metadata": {},
   "source": [
    "7) Pedir al usuario que ingrese su dirección email y luego mostrar un mensaje indicando si la dirección es válida o no. Una dirección se considerará válida si contiene el símbolo \"@\"."
   ]
  },
  {
   "cell_type": "code",
   "execution_count": 14,
   "metadata": {},
   "outputs": [
    {
     "name": "stdout",
     "output_type": "stream",
     "text": [
      "El correo electronico es valido\n"
     ]
    }
   ],
   "source": [
    "correo = str(input('Ingrese su correo electronico:'))\n",
    "\n",
    "if '@' in correo:\n",
    "    print ('El correo electronico es valido')\n",
    "else:\n",
    "    print ('El correo electronico es invalido')"
   ]
  },
  {
   "cell_type": "markdown",
   "metadata": {},
   "source": [
    "8) Dado un número de dos cifras, diseñe un algoritmo que permita obtener el número invertido. Ejemplo, si se introduce 23 que muestre 32. (Recordar que las cadenas pueden tratarse como listas de caracteres)."
   ]
  },
  {
   "cell_type": "code",
   "execution_count": 17,
   "metadata": {},
   "outputs": [
    {
     "name": "stdout",
     "output_type": "stream",
     "text": [
      "32\n"
     ]
    }
   ],
   "source": [
    "numero = str(input('Ingrese un numero a invertir:'))\n",
    "\n",
    "print (numero[1]+numero[0])"
   ]
  },
  {
   "cell_type": "markdown",
   "metadata": {},
   "source": [
    "9) Crea un programa que pida al usuario dos números y muestre True si ambos son mayores que 10."
   ]
  },
  {
   "cell_type": "code",
   "execution_count": 23,
   "metadata": {},
   "outputs": [
    {
     "name": "stdout",
     "output_type": "stream",
     "text": [
      "False\n"
     ]
    }
   ],
   "source": [
    "a = int(input(\"ingrese un numero:\"))\n",
    "b = int(input(\"ingrese otro numero:\"))\n",
    "\n",
    "print ((a>10) and (b>10))\n"
   ]
  },
  {
   "cell_type": "markdown",
   "metadata": {},
   "source": [
    "10) Escribe un programa que verifique si un número ingresado por el usuario es divisible por 3 y por 5."
   ]
  },
  {
   "cell_type": "code",
   "execution_count": 26,
   "metadata": {},
   "outputs": [
    {
     "name": "stdout",
     "output_type": "stream",
     "text": [
      "El numero es divisible por 3\n",
      "El numero es divisible por 5\n"
     ]
    }
   ],
   "source": [
    "a = int(input(\"ingrese un numero:\"))\n",
    "\n",
    "if a % 3 == 0:\n",
    "    print ('El numero es divisible por 3')\n",
    "if a % 5 == 0:\n",
    "    print ('El numero es divisible por 5')\n",
    "    "
   ]
  },
  {
   "cell_type": "markdown",
   "metadata": {},
   "source": [
    "11) Utilizando la información del punto 5, preguntar al usuario si posee carnet de conducir, luego verificar si puede conducir un automóvil."
   ]
  },
  {
   "cell_type": "code",
   "execution_count": 39,
   "metadata": {},
   "outputs": [
    {
     "name": "stdout",
     "output_type": "stream",
     "text": [
      "Puede conducir\n"
     ]
    }
   ],
   "source": [
    "if edad >= 18:\n",
    "    carnet = str(input(\"Posee carnet de conducir? (s/n)\"))\n",
    "    if (carnet == 's') or (carnet == 'n'):\n",
    "        if carnet == 's':\n",
    "            print ('Puede conducir')\n",
    "        else:\n",
    "            print ('No puede conducir')\n",
    "    else:\n",
    "        print ('Respuesta invalida')\n",
    "else:\n",
    "    print ('No posee edad para conducir')"
   ]
  },
  {
   "cell_type": "markdown",
   "metadata": {},
   "source": [
    "12) Pide al usuario un número y verifica si es positivo y no es mayor que 100."
   ]
  },
  {
   "cell_type": "code",
   "execution_count": 41,
   "metadata": {},
   "outputs": [
    {
     "name": "stdout",
     "output_type": "stream",
     "text": [
      "El numero es positivo y menor que 100\n"
     ]
    }
   ],
   "source": [
    "a = int(input(\"ingrese un numero:\"))\n",
    "\n",
    "if (a > 0) and (a <= 100):\n",
    "    print ('El numero es positivo y menor que 100')\n"
   ]
  },
  {
   "cell_type": "markdown",
   "metadata": {},
   "source": [
    "13) Crear un programa que valide si un número ingresado por el usuario es par y mayor que 20."
   ]
  },
  {
   "cell_type": "code",
   "execution_count": 45,
   "metadata": {},
   "outputs": [
    {
     "name": "stdout",
     "output_type": "stream",
     "text": [
      "False\n"
     ]
    }
   ],
   "source": [
    "a = int(input(\"ingrese un numero:\"))\n",
    "\n",
    "print ((a%2 == 0) and (a>20))"
   ]
  },
  {
   "cell_type": "markdown",
   "metadata": {},
   "source": [
    "14) Dada la variable **numero = 5**, realizar la operación necesaria para que número sea igual a 8. Luego imprimir en pantalla el nuevo valor de número y realizar una nueva operación para que el valor de número sea igual a 4 y mostrar en pantalla el nuevo valor."
   ]
  },
  {
   "cell_type": "code",
   "execution_count": 47,
   "metadata": {},
   "outputs": [
    {
     "name": "stdout",
     "output_type": "stream",
     "text": [
      "8\n",
      "4\n"
     ]
    }
   ],
   "source": [
    "numero = 5\n",
    "\n",
    "numero += 3\n",
    "print (numero)\n",
    "\n",
    "numero -= 4\n",
    "print (numero)"
   ]
  },
  {
   "cell_type": "markdown",
   "metadata": {},
   "source": [
    "15) Dadas las variables altura = \"10\" y base = 5, calcular el área de un triángulo y mostrar el resultado en pantalla. ¿Por qué el resultado es un error? ¿Cómo lo corregirías?"
   ]
  },
  {
   "cell_type": "code",
   "execution_count": 55,
   "metadata": {},
   "outputs": [
    {
     "name": "stdout",
     "output_type": "stream",
     "text": [
      "25.0\n"
     ]
    }
   ],
   "source": [
    "altura = \"10\"         # error: altura es un string por lo que no se puede operar con la division porque da un string la multiplicacion\n",
    "base = 5\n",
    "\n",
    "area = (base*int(altura))/2  # solucion: se convierte altura a int para poder operar\n",
    "print (area)"
   ]
  },
  {
   "cell_type": "markdown",
   "metadata": {},
   "source": [
    "16) Crea un programa que calcule el promedio de tres calificaciones ingresadas por el usuario, y comprobar si el alumno aprobó o no (aprueba con nota mayor a 6)."
   ]
  },
  {
   "cell_type": "code",
   "execution_count": 57,
   "metadata": {},
   "outputs": [
    {
     "name": "stdout",
     "output_type": "stream",
     "text": [
      "Aprobado\n"
     ]
    }
   ],
   "source": [
    "a = int(input(\"ingrese primera calificacion:\"))\n",
    "b = int(input(\"ingrese segunda calificacion\"))\n",
    "c = int(input(\"ingrese tercera calificacion\"))\n",
    "\n",
    "promedio = (a + b + c) / 3\n",
    "\n",
    "if promedio > 6:\n",
    "    print ('Aprobado')\n",
    "else:\n",
    "    print ('Reprobado')"
   ]
  },
  {
   "cell_type": "markdown",
   "metadata": {},
   "source": [
    "17) Pide al usuario su edad y calcula cuántos días, horas y minutos ha vivido aproximadamente (asumiendo 365 días por año)."
   ]
  },
  {
   "cell_type": "code",
   "execution_count": 58,
   "metadata": {},
   "outputs": [
    {
     "name": "stdout",
     "output_type": "stream",
     "text": [
      "dias: 14965\n",
      "horas: 359160\n",
      "minutos: 21549600\n"
     ]
    }
   ],
   "source": [
    "edad = int(input(\"ingrese edad:\"))\n",
    "\n",
    "dias = edad * 365\n",
    "horas = edad * 8760\n",
    "minutos = edad * 525600\n",
    "\n",
    "print ('dias:', dias)\n",
    "print ('horas:', horas)\n",
    "print ('minutos:', minutos)"
   ]
  },
  {
   "cell_type": "markdown",
   "metadata": {},
   "source": [
    "18) Crea un programa que verifique si un número ingresado por el usuario es múltiplo de 4 y de 6 al mismo tiempo."
   ]
  },
  {
   "cell_type": "code",
   "execution_count": 71,
   "metadata": {},
   "outputs": [
    {
     "name": "stdout",
     "output_type": "stream",
     "text": [
      "Es multiplo de 4 y de 6: True\n"
     ]
    }
   ],
   "source": [
    "numero = int(input(\"ingrese numero:\"))\n",
    "\n",
    "print (\"Es multiplo de 4 y de 6:\",((numero % 4 == 0) and (numero % 6 == 0)))\n"
   ]
  }
 ],
 "metadata": {
  "kernelspec": {
   "display_name": "Python 3",
   "language": "python",
   "name": "python3"
  },
  "language_info": {
   "codemirror_mode": {
    "name": "ipython",
    "version": 3
   },
   "file_extension": ".py",
   "mimetype": "text/x-python",
   "name": "python",
   "nbconvert_exporter": "python",
   "pygments_lexer": "ipython3",
   "version": "3.12.2"
  }
 },
 "nbformat": 4,
 "nbformat_minor": 2
}
